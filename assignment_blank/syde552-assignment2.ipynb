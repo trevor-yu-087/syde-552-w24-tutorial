{
 "cells": [
  {
   "cell_type": "markdown",
   "metadata": {},
   "source": [
    "# SYDE 552 Assignment 2: Vision\n",
    "### Due Monday, February 19, 11:59pm\n",
    "### Value: 15% of total marks for the course\n",
    "\n",
    "This assignment covers the mammilian vision system, including both questions about the biology itself and constructing computational models based on Regression and Convolutional Neural Networks.\n",
    "\n",
    "You can work in groups to do the assignment, but your answers and code must be original to you. Your submission will be a filled-out copy of this notebook (cells for code and written answers provided)."
   ]
  },
  {
   "cell_type": "markdown",
   "metadata": {},
   "source": [
    "# 1. The Vision System\n",
    "\n",
    "The purpose of this part of the assignment is to test your knowledge of the brain’s visual system and the relationship between neurobiological features and computational properties. The best answers will discuss both function and anatomy, and will draw on specific anatomical examples to support theoretical claims. You are encouraged to discuss answers with your classmates, consult the slides notes, or use external resources -- but your answers must be your own! In particular, read the Kandel et al. chapters listed on the slides. Expect to write around 5 sentences for each 1 point."
   ]
  },
  {
   "cell_type": "markdown",
   "metadata": {},
   "source": [
    "**1.a) [2 marks]** The neurons in different parts of the brain are sensitive to different things, and can be thought of as different feature detectors.  For each of the types of neurons listed below, describe what feature they detect, their receptive fields, and how their connectivity to other neurons and/or their internal neural processes helps them to do this feature detection:\n",
    "- Cones\n",
    "- Sustained Ganglion Cells\n",
    "- Transient Ganglion Cells\n",
    "- Simple Cells"
   ]
  },
  {
   "cell_type": "markdown",
   "metadata": {},
   "source": [
    "**1. b) [1 marks]** Describe two instances where retinotopic organization facilitates visual processing.  For each example, be sure to mention its anatomical location and discuss how retinitopy contributes to the feature detection."
   ]
  },
  {
   "cell_type": "markdown",
   "metadata": {},
   "source": [
    "**1. c) [2 marks]** Discuss the similarities and differences between convolutional neural networks and the visual system."
   ]
  },
  {
   "cell_type": "markdown",
   "metadata": {},
   "source": [
    "# 2. Classifying Stimuli Using Regression\n",
    "\n",
    "The retina transforms the light entering an eye into a particular set of features, which are then sent to the rest of the brain for further processing.  In this section we look at how neurons might detect patterns, and how that detection changes with different feature detectors.\n",
    "\n",
    "The data we will use for this is the classic MNIST dataset "
   ]
  },
  {
   "cell_type": "code",
   "execution_count": 16,
   "metadata": {},
   "outputs": [],
   "source": [
    "import torchvision\n",
    "mnist = torchvision.datasets.MNIST(root='.', download=True)"
   ]
  },
  {
   "cell_type": "markdown",
   "metadata": {},
   "source": [
    "The MNIST digits are 28x28 pixels each, each pixel is a value from 0 to 255, and there are 60,000 of them.  The raw data is in `mnist.data` and the target value (i.e. the actual digit) is in `mnist.targets`.  Here are the first 24 of each:"
   ]
  },
  {
   "cell_type": "code",
   "execution_count": 217,
   "metadata": {},
   "outputs": [
    {
     "data": {
      "image/png": "[encoded data removed]",
      "text/plain": [
       "<Figure size 1008x576 with 24 Axes>"
      ]
     },
     "metadata": {},
     "output_type": "display_data"
    }
   ],
   "source": [
    "%matplotlib inline\n",
    "import matplotlib.pyplot as plt\n",
    "plt.figure(figsize=(14,8))\n",
    "for i in range(24):\n",
    "    plt.subplot(4, 6, i+1)\n",
    "    plt.imshow(mnist.data[i], vmin=0, vmax=255, cmap='gray_r')\n",
    "    plt.xticks([])\n",
    "    plt.yticks([])\n",
    "    plt.title(int(mnist.targets[i]))"
   ]
  },
  {
   "cell_type": "markdown",
   "metadata": {},
   "source": [
    "**2.a) [1 mark]** We can imagine the MNIST digits as 784 (28 times 28) input neurons.  We want to connect these 784 neurons to 10 output neurons, one for each digit, and see how accurately we can classify the digits.  \n",
    "\n",
    "To find the weights in this question, we will use Ridge Regression.  `X` is the MNIST input data, divided by 255 to rescale it to between 0 and 1, and then reshaped to be a 60000x784 matrix\n",
    "\n",
    "```\n",
    "X = mnist.data.reshape((60000,28*28)).float()/255\n",
    "```\n",
    "\n",
    "The target data T is a \"one-hot\" representation of our outputs.  That is, instead of the desired output to be `5`, the output should be `[0, 0, 0, 0, 0, 1, 0, 0, 0, 0]` and if the desired output should be `0`, that would be `[1, 0, 0, 0, 0, 0, 0, 0, 0, 0]`.  \n",
    "\n",
    "```\n",
    "T = torch.nn.functional.one_hot(mnist.targets).float()\n",
    "```\n",
    "\n",
    "If our output is `Y=X @ W`, we need to find `W` such that `Y` is as close as possible to `T`.  For Ridge Regression, this is computed as\n",
    "\n",
    "```\n",
    "W = torch.inverse(X.T @ X + lambd*I) @ (X.T @ T)\n",
    "```\n",
    "\n",
    "where `I` is an identity matrix of the correct size (`torch.eye(784).float()`) and `lambd` is the $\\lambda$ parameter that stops the regression from overfitting.\n",
    "\n",
    "When building any sort of classifier model, we generally want to create the model using one set of data, and then test it on another set of data.  Here, we will use the first 5,000 data points for creating (\"training\") the model, and the other 55,000 for testing:\n",
    "\n",
    "```\n",
    "N = 5000\n",
    "X_train, X_test = X[:N], X[N:]  # split X into two parts for training and testing\n",
    "T_train, T_test = T[:N], T[N:]  # split T into two parts for training and testing\n",
    "```\n",
    "\n",
    "Given this data, you should find `W` using *only* the `X_train` and `T_train` data.  Once you find `W` you can apply it to the `X_train` and `X_test` to get `Y_train` and `Y_test`\n",
    "\n",
    "```\n",
    "Y_train = X_train @ W\n",
    "Y_test = X_test @ W\n",
    "```\n",
    "\n",
    "Finally, you can compute the accuracy by determining when the output is the correct category.  Here we will do this by counting when the largest output value in each row in `Y` is at the same spot as the largest output value in each row in `T`:\n",
    "\n",
    "```\n",
    "accuracy_train = torch.sum(torch.argmax(Y_train, axis=1)==torch.argmax(T_train, axis=1))/len(Y_train)\n",
    "accuracy_test = torch.sum(torch.argmax(Y_test, axis=1)==torch.argmax(T_test, axis=1))/len(Y_test)\n",
    "```\n",
    "\n",
    "- Compute the training and testing accuracy when $\\lambda=1$ and we use the first 5,000 data points as for training (and test on the remaining 55,000).  Report both numbers.  \n",
    "- Do we expect the testing accuracy to be larger or smaller than the training accuracy?  Why?\n"
   ]
  },
  {
   "cell_type": "code",
   "execution_count": null,
   "metadata": {},
   "outputs": [],
   "source": []
  },
  {
   "cell_type": "markdown",
   "metadata": {},
   "source": [
    "**2. b) [2 marks]**  Repeat part a) but vary the value of `lambd` from $10^{-5}$ to $10^5$.   You can use a `for` loop such as `for lambd in np.logspace(-5, 5, 11):`.  \n",
    "\n",
    "- Generate a single plot that shows the training and testing accuracy.  Make sure to label your axes and the lines on the plot.  \n",
    "\n",
    "- What is the best value for `lambd` (i.e. the value for which we get the best training accuracy).  \n",
    "- Why does changing `lambd` affect the accuracy?  \n",
    "- Why would having a large `lambd` value be good for making a biologically realistic model?"
   ]
  },
  {
   "cell_type": "code",
   "execution_count": null,
   "metadata": {},
   "outputs": [],
   "source": []
  },
  {
   "cell_type": "markdown",
   "metadata": {},
   "source": [
    "**2. c) [1 mark]** The input we have used so far is not very realistic.  In real life, when we see written digits, they are under a wide range of lighting conditions. For this question, we change `X` by scaling it randomly and adding a random background brightness.\n",
    "\n",
    "```\n",
    "X = mnist.data.reshape((60000,28*28)).float()/255\n",
    "X = X*(1-2*torch.rand(60000)[:,None]) + torch.rand(60000)[:,None]\n",
    "```\n",
    "\n",
    "To see what this looks like, here is how you can plot it:"
   ]
  },
  {
   "cell_type": "code",
   "execution_count": 306,
   "metadata": {},
   "outputs": [
    {
     "data": {
      "image/png": "[encoded data removed]",
      "text/plain": [
       "<Figure size 1008x576 with 24 Axes>"
      ]
     },
     "metadata": {},
     "output_type": "display_data"
    }
   ],
   "source": [
    "X = mnist.data.reshape((60000,28*28)).float()/255\n",
    "X = X*(1-2*torch.rand(60000))[:,None] + torch.rand(60000)[:,None]\n",
    "\n",
    "plt.figure(figsize=(14,8))\n",
    "for i in range(24):\n",
    "    plt.subplot(4, 6, i+1)\n",
    "    plt.imshow(X[i].reshape(28,28), vmin=0, vmax=1, cmap='gray_r')\n",
    "    plt.xticks([])\n",
    "    plt.yticks([])\n",
    "    plt.title(int(mnist.targets[i]))"
   ]
  },
  {
   "cell_type": "markdown",
   "metadata": {},
   "source": [
    "\n",
    "- Generate the same plot as in 2b) but for this new dataset.  \n",
    "- Is this a harder or easier task than with the original dataset?\n",
    "- Is this new dataset more like the data at the retina or like the data in the ganglion cells?\n",
    "- Is the original dataset more like the data at the retina or like the data in the ganglion cells?"
   ]
  },
  {
   "cell_type": "code",
   "execution_count": null,
   "metadata": {},
   "outputs": [],
   "source": []
  },
  {
   "cell_type": "markdown",
   "metadata": {},
   "source": [
    "**2. d) [1 mark]** We can think of neurons in the visual system as transforming the data in various ways.  Given the dataset in 2c), neurons might be able to transform it to look more like the origin data.\n",
    "\n",
    "Here are three data transformations that could be applied here:\n",
    "\n",
    "Subtracting the Mean\n",
    "```\n",
    "X = X-torch.mean(X, axis=1)[:,None]\n",
    "```\n",
    "\n",
    "Absolute value\n",
    "```\n",
    "X = torch.abs(X)\n",
    "```\n",
    "\n",
    "Normalizing\n",
    "```\n",
    "X = X/torch.linalg.norm(X, axis=1)[:,None]\n",
    "```\n",
    "\n",
    "- Apply all three of them (in the order shown above) to the dataset and generate the same graph as in 2b) and 2c).\n",
    "- How does the performance of the network compare to that of 2b) and 2c)?\n",
    "- Do any of the three transformations above correspond to processing that occurs in the eye before the signal is sent to the rest of the brain?\n",
    "- Given this result, why does the eye transform the data between raw rods & cones and the ganglion cells?"
   ]
  },
  {
   "cell_type": "code",
   "execution_count": null,
   "metadata": {},
   "outputs": [],
   "source": []
  },
  {
   "cell_type": "markdown",
   "metadata": {},
   "source": [
    "# 3. Classifying Stimuli Using Backpropogation\n",
    "\n",
    "Regression is restricted to learning the layer of weights that produces the final output.  If we want to also learn what features are most useful for producing that output, we need a more complex learning rule, and this is typically backpropogation.  Here we will classify the same data as in question 2, and we will build up different network structures to do so.\n",
    "\n",
    "Backpropogation tends to work best when learning on a bunch of data at the same time (a \"batch\").  The following code will set up the same training and testing data as in question 2, but presented in randomized batches of 1000 at a time.\n",
    "\n",
    "```python\n",
    "mnist = torchvision.datasets.MNIST(root='.', download=True, transform=torchvision.transforms.ToTensor())\n",
    "\n",
    "train_loader = torch.utils.data.DataLoader(torch.utils.data.Subset(mnist, np.arange(5000)), \n",
    "                                           batch_size=1000, shuffle=True)\n",
    "test_loader = torch.utils.data.DataLoader(torch.utils.data.Subset(mnist, np.arange(5000, 10000)), \n",
    "                                          batch_size=1000, shuffle=True)\n",
    "```"
   ]
  },
  {
   "cell_type": "markdown",
   "metadata": {},
   "source": [
    "To create a neural network, we need to define what the weights are we will learn and we need to define the computation that the network will perform.  Here is the definition of a simple network that has an input of 784 values (the MNIST inputs), which go to 50 \"hidden\"-layer neurons, and then to the output 10 neurons.  So the network will learn to transform the 784 inputs into 50 new representations, and from those 50 features it will learn weights to create an output of 10 values (our 10 categories).  This is known as a multi-layer perceptron, or a standard neural network with a single hidden layer.\n",
    "\n",
    "```python\n",
    "import torch.nn as nn\n",
    "import torch.nn.functional as F\n",
    "\n",
    "class Net(nn.Module):\n",
    "    def __init__(self):\n",
    "        super(Net, self).__init__()\n",
    "        # these will be learned\n",
    "        self.fc1 = nn.Linear(784, 50)   # the weights from the input to the new learned features (hidden layer)\n",
    "        self.fc2 = nn.Linear(50, 10)    # the weights from the hidden layer to the output\n",
    "\n",
    "    def forward(self, x):\n",
    "        # the processing the network will do\n",
    "        x = x.view(-1, 784)             # flatten the input from 28x28 to 784 values\n",
    "        x = F.relu(self.fc1(x))         # apply the first set of weights, then apply the ReLU neuron model\n",
    "        x = self.fc2(x)                 # apply the second set of weights\n",
    "        return F.log_softmax(x)         # apply a softmax function as we just want one large output indicating category\n",
    "    \n",
    "network = Net()\n",
    "```"
   ]
  },
  {
   "cell_type": "markdown",
   "metadata": {},
   "source": [
    "Finally, we need to train our model.  When training, it is useful to keep track of how well the model is doing on the testing data.  Since testing the network takes time, we don't necessarily want to do it all the time.  Instead, the following code trains the network 10 times, and then records how well the network does on the training data and on the testing data."
   ]
  },
  {
   "cell_type": "code",
   "execution_count": 403,
   "metadata": {},
   "outputs": [],
   "source": [
    "# create the learning rule\n",
    "optimizer = optim.SGD(network.parameters(), \n",
    "                      lr=0.1,   # learning rate\n",
    "                      momentum=0.5)\n",
    "\n",
    "# variables to keep track of the training and testing accuracy\n",
    "accuracy_train = []\n",
    "accuracy_test = []\n",
    "\n",
    "def continue_training():\n",
    "    network.train()      # configure the network for training\n",
    "    for i in range(10):  # train the network 10 times\n",
    "        correct = 0\n",
    "        for data, target in train_loader:       # working in batchs of 1000\n",
    "            optimizer.zero_grad()               # initialize the learning system\n",
    "            output = network(data)              # feed in the data \n",
    "            loss = F.nll_loss(output, target)   # compute how wrong the output is\n",
    "            loss.backward()                     # change the weights to reduce error\n",
    "            optimizer.step()                    # update the learning rule\n",
    "            \n",
    "            pred = output.data.max(1, keepdim=True)[1]           # compute which output is largest\n",
    "            correct += pred.eq(target.data.view_as(pred)).sum()  # compute the number of correct outputs\n",
    "    # update the list of training accuracy values\n",
    "    score = float(correct/len(train_loader.dataset))\n",
    "    accuracy_train.append(score)\n",
    "    print('Iteration', len(accuracy_train), 'Training accuracy:', score)\n",
    "    \n",
    "    correct = 0\n",
    "    network.eval()\n",
    "    for data, target in test_loader:    # go through the test data once (in groups of 1000)\n",
    "        output = network(data)                               # feed in the data\n",
    "        pred = output.data.max(1, keepdim=True)[1]           # compute which output is largest\n",
    "        correct += pred.eq(target.data.view_as(pred)).sum()  # compute the number of correct outputs\n",
    "    # update the list of testing accuracy values\n",
    "    score = float(correct/len(test_loader.dataset))\n",
    "    accuracy_test.append(score)\n",
    "    print('Iteration', len(accuracy_test), 'Testing accuracy:', score)\n"
   ]
  },
  {
   "cell_type": "markdown",
   "metadata": {},
   "source": [
    "Given the above code, you can train your network 10 times by doing\n",
    "\n",
    "```python\n",
    "for i in range(10):\n",
    "    continue_training()\n",
    "```\n",
    "\n",
    "If you want to continue training even more, you can just run that `for` loop again.\n",
    "\n",
    "To plot the final accuracy results, you can use\n",
    "\n",
    "```python\n",
    "plt.figure(figsize=(12,4))\n",
    "plt.plot(accuracy_train, label='training')\n",
    "plt.plot(accuracy_test, label='testing')\n",
    "plt.legend()\n",
    "plt.xlabel('training iterations')\n",
    "plt.ylabel('accuracy')\n",
    "plt.show()\n",
    "```"
   ]
  },
  {
   "cell_type": "markdown",
   "metadata": {},
   "source": [
    "**3. a) [1 mark]** Run the model above for 10 iterations (i.e. call `continue_training` 10 times).\n",
    "\n",
    "- Plot the training and testing accuracy.  \n",
    "- Is this model better or worse than the best models developed in question 2?"
   ]
  },
  {
   "cell_type": "code",
   "execution_count": null,
   "metadata": {},
   "outputs": [],
   "source": []
  },
  {
   "cell_type": "markdown",
   "metadata": {},
   "source": [
    "**3. b) [1 mark]** Repeat question 3a five times.  This does not mean to run a single model for 50 iterations.  Rather, you need to reset the model and train it again.  The easiest way to do this is to recreate the network and the optimizer like this:\n",
    "\n",
    "```python\n",
    "network = Net()\n",
    "optimizer = optim.SGD(network.parameters(), \n",
    "                      lr=0.1,\n",
    "                      momentum=0.5)\n",
    "```\n",
    "\n",
    "- Make a plot showing the 5 different training accuracies and 5 different testing accuracies\n",
    "- Also show the average training and testing accuracy on the plot.\n",
    "- Each of the 5 models should show slightly different accuracies.  Why is this the case?\n"
   ]
  },
  {
   "cell_type": "code",
   "execution_count": null,
   "metadata": {},
   "outputs": [],
   "source": []
  },
  {
   "cell_type": "markdown",
   "metadata": {},
   "source": [
    "**3. c) [1 mark]** Repeat question 3b varying the number of neurons in the hidden layer of the network.  The current value is 50.  Try it with 5, 10, 20, 50, and 100 neurons.  For each number of neurons, repeat five times and take the average (like in question 3b).  \n",
    "\n",
    "- Plot the final testing accuracy on the y-axis and the number of neurons on the x-axis.  Note that to speed things up you can remove the testing computation from continue_training until the very end, since we only need the final testing score.\n"
   ]
  },
  {
   "cell_type": "code",
   "execution_count": null,
   "metadata": {},
   "outputs": [],
   "source": []
  },
  {
   "cell_type": "markdown",
   "metadata": {},
   "source": [
    "**3. d) [2 marks]** Now we will add a convolution layer to our network.  The following network adds two convolution layers before two normal neural network layers.\n",
    "\n",
    "```python\n",
    "class Net(nn.Module):\n",
    "    def __init__(self):\n",
    "        super(Net, self).__init__()\n",
    "        self.conv1 = nn.Conv2d(1, 12, kernel_size=5)  # set the size of the convolution to 5x5, and have 12 of them\n",
    "        self.conv2 = nn.Conv2d(12, 20, kernel_size=5)\n",
    "        self.fc1 = nn.Linear(320, 50)\n",
    "        self.fc2 = nn.Linear(50, 10)\n",
    "\n",
    "    def forward(self, x):\n",
    "        x = F.relu(F.max_pool2d(self.conv1(x), 2))  # make sure to do max pooling after the convolution layers\n",
    "        x = F.relu(F.max_pool2d(self.conv2(x), 2))\n",
    "        x = x.view(-1, 320)\n",
    "        x = F.relu(self.fc1(x))\n",
    "        x = self.fc2(x)\n",
    "        return F.log_softmax(x)\n",
    "```\n",
    "\n",
    "The following code can be used to plot the learned features in the first layer:\n",
    "```python\n",
    "plt.figure(figsize=(12,5))\n",
    "for i in range(12):\n",
    "    plt.subplot(3, 4, i+1)\n",
    "    plt.imshow(network.conv1.weight[i][0].detach().numpy(), cmap='gray', interpolation='nearest')\n",
    "    plt.xticks([])\n",
    "    plt.yticks([])\n",
    "plt.show()\n",
    "```\n",
    "\n",
    "- Train the model through 40 iterations and generate a plot of training and testing accuracy over time.\n",
    "- Does this perform better or worse than the previous models in this assignment?\n",
    "- What advantages and disadvantages do you see with this approach (in comparison to the previous parts of the assignment)?\n",
    "- Plot the features learned by the first convolution layer.  How do they compare to real features detected in the V1 area of the brain?"
   ]
  },
  {
   "cell_type": "code",
   "execution_count": null,
   "metadata": {},
   "outputs": [],
   "source": []
  },
  {
   "cell_type": "markdown",
   "metadata": {},
   "source": [
    "**BONUS [1 mark]** Try to improve the neural network.  You want to get the best testing accuracy you can.  Try at least two different approaches and report your results."
   ]
  },
  {
   "cell_type": "code",
   "execution_count": null,
   "metadata": {},
   "outputs": [],
   "source": []
  }
 ],
 "metadata": {
  "kernelspec": {
   "display_name": "Python 3",
   "language": "python",
   "name": "python3"
  },
  "language_info": {
   "codemirror_mode": {
    "name": "ipython",
    "version": 3
   },
   "file_extension": ".py",
   "mimetype": "text/x-python",
   "name": "python",
   "nbconvert_exporter": "python",
   "pygments_lexer": "ipython3",
   "version": "3.8.5"
  }
 },
 "nbformat": 4,
 "nbformat_minor": 4
}
