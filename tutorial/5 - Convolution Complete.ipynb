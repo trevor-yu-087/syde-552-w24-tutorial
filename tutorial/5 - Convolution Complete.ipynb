{
 "cells": [
  {
   "attachments": {},
   "cell_type": "markdown",
   "metadata": {},
   "source": [
    "# Convolution activity\n",
    "\n",
    "The convolution layer in PyTorch has several arguments that controls its behaviour, such as `in_channels`, `out_channels`, `kernel_size`, `stride`, and `padding`. When working with the convolution layer, it is important to understand how these arguments affect the shapes of your inputs. We can control the sizes of the output feature (channel) dimension as well as the spatial (height and width) dimensions. One of the most common issues when building your own neural network is getting these input and output shapes to be compatible when composing multiple layers.\n",
    "\n",
    "When working with image data for deep learning, we represent it as a 4-dimensional tensor. In PyTorch, the convention is to have the dimensions in the order of (batch, channels, height, width) = (BCHW). \n",
    "\n",
    "You could think of an image as an array of pixels, that have a spatial shape given by H and W. This image has C channels, each with spatial shape H $\\times$ W. We can think of all the pixels in a single channel as a \"feature map\". Feature maps are like RGB channels in typical images, although channels tend to lose a concrete meaning as we process images through a neural network. It can also be useful to think of images as a collection of C-dimensional feature vectors at every pixel location. \n",
    "\n",
    "The batch dimension represents a collection of many such of these CHW images. In practice, we batch process our inputs when running neural networks, since modern hardware such as graphical processing units (GPUs) are very efficient at doing batched tensor operations like convolution and linear layers.\n",
    "\n",
    "For this activity, you will create convolution layers to perform the desired operations. Note that all inputs and outputs have shape (batch, channels, height, width).\n",
    "\n",
    "Relevant documentation:\n",
    "- [PyTorch nn.Conv2d](https://pytorch.org/docs/stable/generated/torch.nn.Conv2d.html)"
   ]
  },
  {
   "cell_type": "code",
   "execution_count": 1,
   "metadata": {},
   "outputs": [],
   "source": [
    "# Imports\n",
    "import torch\n",
    "from torch import nn"
   ]
  },
  {
   "attachments": {},
   "cell_type": "markdown",
   "metadata": {},
   "source": [
    "## 1. Channels\n",
    "\n",
    "Create a convolution layer with a 3x3 kernel that transforms the 3-channel input to a 16-channel output. Ensure that the output  spatial dimensions (H and W) are the same as the input spatial dimensions.\n"
   ]
  },
  {
   "cell_type": "code",
   "execution_count": 2,
   "metadata": {},
   "outputs": [],
   "source": [
    "x = torch.randn(4, 3, 16, 16)\n",
    "expected_size = torch.Size((4, 16, 16, 16))\n",
    "# TODO: Create a convolution layer with the right arguments\n",
    "conv = nn.Conv2d(in_channels=3, out_channels=16, kernel_size=(3, 3), padding='same')\n",
    "#####\n",
    "y = conv(x)\n",
    "assert y.shape == expected_size, f\"Expected size {expected_size}, got size {y.shape}\""
   ]
  },
  {
   "attachments": {},
   "cell_type": "markdown",
   "metadata": {},
   "source": [
    "## 2. Padding\n",
    "\n",
    "Create a convolution layer with a 5x5 kernel that has the same number of input channels as output channels, with \"valid\" padding. What is the output size after processing the input? Explain why the spatial dimensions changed.\n",
    "\n",
    "Answer:\n"
   ]
  },
  {
   "cell_type": "code",
   "execution_count": 3,
   "metadata": {},
   "outputs": [
    {
     "data": {
      "text/plain": [
       "torch.Size([4, 16, 12, 12])"
      ]
     },
     "execution_count": 3,
     "metadata": {},
     "output_type": "execute_result"
    }
   ],
   "source": [
    "x = torch.randn(4, 16, 16, 16)\n",
    "# TODO: Create a convolution layer with the right arguments\n",
    "conv1 = nn.Conv2d(in_channels=16, out_channels=16, kernel_size=(5, 5), padding='valid')\n",
    "#####\n",
    "y = conv1(x)\n",
    "y.shape"
   ]
  },
  {
   "attachments": {},
   "cell_type": "markdown",
   "metadata": {},
   "source": [
    "## 3. Stride\n",
    "\n",
    "Create a strided convolution layer with a 5x5 kernel that has the same number of input channels as output channels, that exactly halves the spatial dimensions. If we used a 3x3 kernel size instead, how much padding should be added to ensure that this layer exactly halves the output spatial dimensions?\n",
    "\n",
    "Answer:"
   ]
  },
  {
   "cell_type": "code",
   "execution_count": 24,
   "metadata": {},
   "outputs": [],
   "source": [
    "x = torch.randn(4, 3, 64, 64)\n",
    "expected_size = torch.Size((4, 3, 32, 32))\n",
    "# TODO: Create the convolution layer.\n",
    "conv = nn.Conv2d(in_channels=3, out_channels=3, kernel_size=(5, 5), stride=2, padding=2)\n",
    "#####\n",
    "y = conv(x)\n",
    "assert y.shape == expected_size, f\"Expected size {expected_size}, got size {y.shape}\""
   ]
  },
  {
   "attachments": {},
   "cell_type": "markdown",
   "metadata": {},
   "source": [
    "## 4. Combination\n",
    "\n",
    "Using combinations of what you used above, create a convolution layer with a 3x3 kernel that transforms the input to the expected output shape."
   ]
  },
  {
   "cell_type": "code",
   "execution_count": 50,
   "metadata": {},
   "outputs": [],
   "source": [
    "x = torch.randn(4, 3, 32, 32)\n",
    "expected_size = torch.Size((4, 16, 16, 16))\n",
    "# TODO: Create the convlution layer.\n",
    "conv = nn.Conv2d(in_channels=3, out_channels=16, kernel_size=(3, 3), stride=2, padding=(1, 1))\n",
    "#####\n",
    "y = conv(x)\n",
    "assert y.shape == expected_size, f\"Expected size {expected_size}, got size {y.shape}\""
   ]
  }
 ],
 "metadata": {
  "kernelspec": {
   "display_name": "datasci",
   "language": "python",
   "name": "python3"
  },
  "language_info": {
   "codemirror_mode": {
    "name": "ipython",
    "version": 3
   },
   "file_extension": ".py",
   "mimetype": "text/x-python",
   "name": "python",
   "nbconvert_exporter": "python",
   "pygments_lexer": "ipython3",
   "version": "3.10.9"
  },
  "orig_nbformat": 4,
  "vscode": {
   "interpreter": {
    "hash": "fddaefb328894158b465f763a80d93613a8dda1c2f29f2bb5673421f61ac7a4f"
   }
  }
 },
 "nbformat": 4,
 "nbformat_minor": 2
}
